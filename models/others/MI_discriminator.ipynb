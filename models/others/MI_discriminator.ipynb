{
 "cells": [
  {
   "cell_type": "code",
   "execution_count": 1,
   "id": "1bcc24e1-d480-495a-bc66-3090d8e1f418",
   "metadata": {},
   "outputs": [
    {
     "name": "stdout",
     "output_type": "stream",
     "text": [
      "torch.Size([16, 18, 1])\n"
     ]
    }
   ],
   "source": [
    "import torch\n",
    "import torch.nn as nn\n",
    "\n",
    "class Discriminator(nn.Module):\n",
    "    def __init__(self, input_dim=1024, hidden_dim=512):\n",
    "        super(Discriminator, self).__init__()\n",
    "        self.mlp = nn.Sequential(\n",
    "            nn.Linear(input_dim, hidden_dim),  # First Layer: 1024 -> 512\n",
    "            nn.ReLU(),                         # Activation Function\n",
    "            nn.Linear(hidden_dim, 1),          # Second Layer: 512 -> 1\n",
    "            nn.Sigmoid()                       # Output probability\n",
    "        )\n",
    "\n",
    "    def forward(self, h, d):\n",
    "        \"\"\"\n",
    "        h: Tensor of shape (batch, 18, 512)\n",
    "        d: Tensor of shape (batch, 18, 512)\n",
    "        \"\"\"\n",
    "        x = torch.cat([h, d], dim=-1)  # Concatenate along feature dim -> (batch, 18, 1024)\n",
    "        x = self.mlp(x)  # Pass through MLP\n",
    "        return x  # Output shape: (batch, 18, 1)\n",
    "\n",
    "# Example usage\n",
    "batch_size = 16\n",
    "h = torch.randn(batch_size, 18, 512)  # Example tensor for h\n",
    "d = torch.randn(batch_size, 18, 512)  # Example tensor for d\n",
    "\n",
    "discriminator = Discriminator()\n",
    "output = discriminator(h, d)\n",
    "print(output.shape)  # Should be (batch, 18, 1)\n"
   ]
  },
  {
   "cell_type": "code",
   "execution_count": 4,
   "id": "10f8afaf-3f6d-47f7-a63f-1ccba966ef8c",
   "metadata": {},
   "outputs": [
    {
     "name": "stdout",
     "output_type": "stream",
     "text": [
      "torch.Size([16, 1])\n",
      "torch.Size([16, 1])\n"
     ]
    }
   ],
   "source": [
    "import torch\n",
    "import torch.nn as nn\n",
    "\n",
    "class MI_Discriminator(nn.Module):\n",
    "    def __init__(self, input_dim=1024, hidden_dim=512, num_layers=2):\n",
    "        \"\"\"\n",
    "        input_dim: Dimension of input features (1024 after concatenation of c and s)\n",
    "        hidden_dim: Number of neurons in hidden layers\n",
    "        num_layers: Number of layers in the MLP (excluding input and output layers)\n",
    "        \"\"\"\n",
    "        super(MI_Discriminator, self).__init__()\n",
    "\n",
    "        layers = []\n",
    "        prev_dim = input_dim\n",
    "\n",
    "        # Dynamically add hidden layers\n",
    "        for _ in range(num_layers - 1):\n",
    "            layers.append(nn.Linear(prev_dim, hidden_dim))\n",
    "            layers.append(nn.ReLU())  # Activation function\n",
    "            prev_dim = hidden_dim  # Update previous dimension\n",
    "\n",
    "        # Final layer (hidden_dim -> 1)\n",
    "        layers.append(nn.Linear(hidden_dim, 1))\n",
    "        layers.append(nn.Sigmoid())  # Ensure output is in range [0,1]\n",
    "\n",
    "        # Define MLP\n",
    "        self.mlp = nn.Sequential(*layers)\n",
    "\n",
    "    def forward(self, c, s):\n",
    "        \"\"\"\n",
    "        c: Tensor of shape (batch, 18, 512)\n",
    "        s: Tensor of shape (batch, 18, 512)\n",
    "        \"\"\"\n",
    "        x = torch.cat([c, s], dim=-1)  # Shape: (batch, 18, 1024)\n",
    "        x = self.mlp(x)  # Shape: (batch, 18, 1)\n",
    "        x = x.mean(dim=1)  # Aggregate across the 18 features → (batch, 1)\n",
    "        return x\n",
    "\n",
    "# Example Usage\n",
    "batch_size = 16\n",
    "c = torch.randn(batch_size, 18, 512)  # Example tensor for c\n",
    "s = torch.randn(batch_size, 18, 512)  # Example tensor for s\n",
    "\n",
    "# Initialize with different layer depths\n",
    "discriminator_2_layers = MI_Discriminator(num_layers=2)\n",
    "discriminator_4_layers = MI_Discriminator(num_layers=4)\n",
    "\n",
    "output_2_layers = discriminator_2_layers(c, s)\n",
    "output_4_layers = discriminator_4_layers(c, s)\n",
    "\n",
    "print(output_2_layers.shape)  # Should be (batch, 1)\n",
    "print(output_4_layers.shape)  # Should be (batch, 1)\n"
   ]
  }
 ],
 "metadata": {
  "kernelspec": {
   "display_name": "pytorch-gpu-2.4.0_py3.11.5",
   "language": "python",
   "name": "module-conda-env-pytorch-gpu-2.4.0_py3.11.5"
  },
  "language_info": {
   "file_extension": ".py",
   "mimetype": "text/x-python",
   "name": "python",
   "version": "3.11.7"
  }
 },
 "nbformat": 4,
 "nbformat_minor": 5
}