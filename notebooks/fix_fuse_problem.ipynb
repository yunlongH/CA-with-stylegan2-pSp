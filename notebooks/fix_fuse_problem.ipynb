{
 "cells": [
  {
   "cell_type": "markdown",
   "metadata": {},
   "source": [
    "First of all, set the 'CODE_DIR' to where the model code are saved. This will change current working directory and print for checking. Afterwards, we import all required modules."
   ]
  },
  {
   "cell_type": "code",
   "execution_count": 1,
   "metadata": {},
   "outputs": [
    {
     "name": "stdout",
     "output_type": "stream",
     "text": [
      "Current working directory is: \n",
      " /home/ids/yuhe/Projects/CA_with_GAN/3_code_styleGAN/pSp_encoder_constructive\n"
     ]
    }
   ],
   "source": [
    "import os\n",
    "\n",
    "# Save the current PATH\n",
    "original_path = os.environ['PATH']\n",
    "\n",
    "# Set CUDA 12.5 environment variables, appending the original PATH explicitly\n",
    "os.environ['CUDA_HOME'] = '/usr/local/cuda-12.5'\n",
    "os.environ['PATH'] = f\"/usr/local/cuda-12.5/bin:{original_path}\"\n",
    "os.environ['LD_LIBRARY_PATH'] = f\"/usr/local/cuda-12.5/lib64:{os.environ.get('LD_LIBRARY_PATH', '')}\"\n",
    "\n",
    "CODE_DIR = '/home/ids/yuhe/Projects/CA_with_GAN/3_code_styleGAN/pSp_encoder_constructive/'\n",
    "\n",
    "import os\n",
    "os.chdir(f'{CODE_DIR}')\n",
    "\n",
    "notebook_path = os.getcwd()\n",
    "print('Current working directory is:', '\\n', notebook_path) "
   ]
  },
  {
   "cell_type": "code",
   "execution_count": null,
   "metadata": {},
   "outputs": [],
   "source": [
    "# from models.stylegan2.op import FusedLeakyReLU \n",
    "#from models.stylegan2.op import fused_leaky_relu\n",
    "from models.stylegan2.op import upfirdn2d"
   ]
  }
 ],
 "metadata": {
  "kernelspec": {
   "display_name": "pytorch124c",
   "language": "python",
   "name": "python3"
  },
  "language_info": {
   "codemirror_mode": {
    "name": "ipython",
    "version": 3
   },
   "file_extension": ".py",
   "mimetype": "text/x-python",
   "name": "python",
   "nbconvert_exporter": "python",
   "pygments_lexer": "ipython3",
   "version": "3.11.10"
  }
 },
 "nbformat": 4,
 "nbformat_minor": 2
}
