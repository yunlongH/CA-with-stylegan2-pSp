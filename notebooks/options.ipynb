{
 "cells": [
  {
   "cell_type": "code",
   "execution_count": 1,
   "metadata": {},
   "outputs": [],
   "source": [
    "import os\n",
    "CODE_DIR = '/home/ids/yuhe/Projects/CA_with_GAN/3_code_styleGAN/pSp_encoder_constructive/'\n",
    "\n",
    "os.chdir(CODE_DIR)    \n",
    "\n",
    "from options.train_options import TrainOptions"
   ]
  },
  {
   "cell_type": "code",
   "execution_count": null,
   "metadata": {},
   "outputs": [],
   "source": [
    "opts = TrainOptions().parse()"
   ]
  },
  {
   "cell_type": "code",
   "execution_count": 3,
   "metadata": {},
   "outputs": [],
   "source": [
    "import torch\n",
    "model_cspSp_path = './results/opt_csmlp_adjust/Sep_nmlp12_mse_adam_lr001/lpips1.6_id1.0_l22.0/checkpoints/best_model.pt'\n",
    "cspSp_ckpt = torch.load(model_cspSp_path, map_location='cpu', weights_only=True)\n",
    "opts2 = cspSp_ckpt['opts']"
   ]
  },
  {
   "cell_type": "code",
   "execution_count": 6,
   "metadata": {},
   "outputs": [],
   "source": [
    "input1 = torch.randn(2, 4, 4)\n",
    "input2 = torch.randn(2, 4, 4)"
   ]
  },
  {
   "cell_type": "code",
   "execution_count": 9,
   "metadata": {},
   "outputs": [
    {
     "name": "stdout",
     "output_type": "stream",
     "text": [
      "tensor(1.0905)\n",
      "tensor(1.0905)\n"
     ]
    }
   ],
   "source": [
    "import torch\n",
    "import torch.nn.functional as F\n",
    "output1 = F.l1_loss(input1, input2)\n",
    "output2 = F.l1_loss(input2, input1)\n",
    "print(output1)\n",
    "print(output2)"
   ]
  }
 ],
 "metadata": {
  "kernelspec": {
   "display_name": "newest_pt",
   "language": "python",
   "name": "python3"
  },
  "language_info": {
   "codemirror_mode": {
    "name": "ipython",
    "version": 3
   },
   "file_extension": ".py",
   "mimetype": "text/x-python",
   "name": "python",
   "nbconvert_exporter": "python",
   "pygments_lexer": "ipython3",
   "version": "3.12.5"
  }
 },
 "nbformat": 4,
 "nbformat_minor": 2
}
